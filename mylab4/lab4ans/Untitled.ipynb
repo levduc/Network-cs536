{
 "cells": [
  {
   "cell_type": "code",
   "execution_count": 17,
   "metadata": {
    "collapsed": false
   },
   "outputs": [
    {
     "data": {
      "text/plain": [
       "Plots.PyPlotBackend()"
      ]
     },
     "execution_count": 17,
     "metadata": {},
     "output_type": "execute_result"
    }
   ],
   "source": [
    "using Plots\n",
    "pyplot()"
   ]
  },
  {
   "cell_type": "code",
   "execution_count": 51,
   "metadata": {
    "collapsed": false
   },
   "outputs": [
    {
     "data": {
      "text/plain": [
       "8-element Array{Float64,1}:\n",
       " 12.786\n",
       " 12.225\n",
       " 45.676\n",
       " 15.123\n",
       " 37.285\n",
       " 19.046\n",
       " 17.179\n",
       " 18.874"
      ]
     },
     "execution_count": 51,
     "metadata": {},
     "output_type": "execute_result"
    }
   ],
   "source": [
    "x = [12.786, 12.225,45.676 ,15.123 ,37.285, 19.046, 17.179, 18.874]"
   ]
  },
  {
   "cell_type": "code",
   "execution_count": 52,
   "metadata": {
    "collapsed": false
   },
   "outputs": [
    {
     "data": {
      "text/plain": [
       "8-element Array{Float64,1}:\n",
       " 5.631\n",
       " 2.875\n",
       " 2.167\n",
       " 6.334\n",
       " 4.665\n",
       " 2.674\n",
       " 2.705\n",
       " 5.505"
      ]
     },
     "execution_count": 52,
     "metadata": {},
     "output_type": "execute_result"
    }
   ],
   "source": [
    "y = [5.631,2.875,2.167,6.334,4.665,2.674,2.705,5.505]"
   ]
  },
  {
   "cell_type": "code",
   "execution_count": 58,
   "metadata": {
    "collapsed": false
   },
   "outputs": [],
   "source": [
    "p1 = plot(1:1:8,x, w=2, lab=\"Tunnelling\")\n",
    "p1 =scatter!(1:1:8,x, w=2, lab=\"\")\n",
    "p1 =plot!(1:1:8,y, w=2, lab=\"No Tunnelling\")\n",
    "p1 = scatter!(1:1:8,y, w=2, lab=\"\")\n",
    "plot(p1)\n",
    "savefig(\"1.pdf\")"
   ]
  },
  {
   "cell_type": "code",
   "execution_count": 22,
   "metadata": {
    "collapsed": false
   },
   "outputs": [
    {
     "data": {
      "text/plain": [
       "1×8 Array{Int64,2}:\n",
       " 1  2  3  4  5  6  7  8"
      ]
     },
     "execution_count": 22,
     "metadata": {},
     "output_type": "execute_result"
    }
   ],
   "source": [
    "z = [1 2 3 4 5 6 7 8]"
   ]
  },
  {
   "cell_type": "code",
   "execution_count": null,
   "metadata": {
    "collapsed": true
   },
   "outputs": [],
   "source": []
  }
 ],
 "metadata": {
  "anaconda-cloud": {},
  "kernelspec": {
   "display_name": "Julia 0.5.0",
   "language": "julia",
   "name": "julia-0.5"
  },
  "language_info": {
   "file_extension": ".jl",
   "mimetype": "application/julia",
   "name": "julia",
   "version": "0.5.0"
  }
 },
 "nbformat": 4,
 "nbformat_minor": 1
}
